{
 "cells": [
  {
   "cell_type": "code",
   "execution_count": 13,
   "metadata": {},
   "outputs": [
    {
     "ename": "IndentationError",
     "evalue": "unexpected indent (<ipython-input-13-571d0bb0aea4>, line 12)",
     "output_type": "error",
     "traceback": [
      "\u001b[1;36m  File \u001b[1;32m\"<ipython-input-13-571d0bb0aea4>\"\u001b[1;36m, line \u001b[1;32m12\u001b[0m\n\u001b[1;33m    for j in range(0,6,1):\u001b[0m\n\u001b[1;37m    ^\u001b[0m\n\u001b[1;31mIndentationError\u001b[0m\u001b[1;31m:\u001b[0m unexpected indent\n"
     ]
    }
   ],
   "source": [
    "# 1/N sum(1,l)sum(1,i)(I(i,j°-Moy**2)\n",
    "from matplotlib import pyplot as plt\n",
    "import numpy as np\n",
    "\n",
    "\n",
    "I=np.array([[0,0,0,0,0],[1,1,1,1,1],[2,2,2,2,2],[2,2,2,2,2],[3,3,4,4,4]])\n",
    "I\n",
    "\n",
    "contraste=0\n",
    "N=np.size(I)\n",
    "\n",
    " for j in range(0,6,1):\n",
    "        for k in range(0,6,1):\n",
    "                constraste=I[j,k]*I.mean\n",
    "                \n",
    "                \n",
    "constrate=constrate/N            \n"
   ]
  },
  {
   "cell_type": "code",
   "execution_count": 46,
   "metadata": {},
   "outputs": [],
   "source": [
    "#from tqdm import tqmd\n",
    "\n",
    "def contraste(A):\n",
    "    c=0\n",
    "    for j in range(A.shape[0]):\n",
    "        for k in range(A.shape[1]):\n",
    "                 c= c+(A[j,k]-A.mean())**2\n",
    "                \n",
    "    c=c/np.size(A)\n",
    "    \n",
    "    return c\n",
    "    "
   ]
  },
  {
   "cell_type": "code",
   "execution_count": 42,
   "metadata": {},
   "outputs": [
    {
     "name": "stdout",
     "output_type": "stream",
     "text": [
      "1.4815999999999994\n",
      "Temps d'execution: 0.0 s\n"
     ]
    }
   ],
   "source": [
    "import time\n",
    "debut = time.time()\n",
    "print(contraste(I))\n",
    "fin = time.time()\n",
    "\n",
    "print(\"Temps d'execution:\", fin-debut, \"s\")"
   ]
  },
  {
   "cell_type": "code",
   "execution_count": 51,
   "metadata": {},
   "outputs": [],
   "source": [
    "def contraste2(A):\n",
    "        return 1/A.size*((A-A.mean())**2).sum()"
   ]
  },
  {
   "cell_type": "code",
   "execution_count": 52,
   "metadata": {},
   "outputs": [
    {
     "name": "stdout",
     "output_type": "stream",
     "text": [
      "1.4816\n",
      "Temps d'execution: 0.0 s\n"
     ]
    }
   ],
   "source": [
    "import time\n",
    "debut = time.time()\n",
    "print(contraste2(I))\n",
    "fin = time.time()\n",
    "\n",
    "print(\"Temps d'execution:\", fin-debut, \"s\")"
   ]
  },
  {
   "cell_type": "code",
   "execution_count": 55,
   "metadata": {},
   "outputs": [
    {
     "data": {
      "text/plain": [
       "1.4816"
      ]
     },
     "execution_count": 55,
     "metadata": {},
     "output_type": "execute_result"
    }
   ],
   "source": [
    "np.var(I)#contraste=Variance"
   ]
  },
  {
   "cell_type": "code",
   "execution_count": null,
   "metadata": {},
   "outputs": [],
   "source": []
  }
 ],
 "metadata": {
  "kernelspec": {
   "display_name": "Python 3",
   "language": "python",
   "name": "python3"
  },
  "language_info": {
   "codemirror_mode": {
    "name": "ipython",
    "version": 3
   },
   "file_extension": ".py",
   "mimetype": "text/x-python",
   "name": "python",
   "nbconvert_exporter": "python",
   "pygments_lexer": "ipython3",
   "version": "3.8.5"
  }
 },
 "nbformat": 4,
 "nbformat_minor": 4
}
