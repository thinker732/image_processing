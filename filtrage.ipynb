{
 "cells": [
  {
   "cell_type": "code",
   "execution_count": 136,
   "metadata": {},
   "outputs": [],
   "source": [
    "from matplotlib import pyplot as plt\n",
    "import numpy as np\n",
    "\n",
    "c=np.array([[2,1,3,0],[1,1,0,5],[3,3,1,0],[2,0,0,2]])\n",
    "m=np.array([[1,0,2],[2,1,0],[1,0,3]])"
   ]
  },
  {
   "cell_type": "code",
   "execution_count": 12,
   "metadata": {},
   "outputs": [],
   "source": [
    "def convolution(matrix, kernel):\n",
    "    k_size = len(kernel)\n",
    "    m_height, m_width = matrix.shape\n",
    "    padded = np.pad(matrix, (k_size-1, k_size-1))\n",
    "    \n",
    "    output = []\n",
    "    for i in range(m_height):\n",
    "        for j in range(m_width):\n",
    "            output.append(np.sum(padded[i:k_size+i, j:k_size+j]*kernel))\n",
    "\n",
    "    output=np.array(output).reshape((m_height, m_width))\n",
    "    return output"
   ]
  },
  {
   "cell_type": "code",
   "execution_count": 127,
   "metadata": {},
   "outputs": [],
   "source": [
    "def convolve(matrix,kernel):\n",
    "    \n",
    "    kl = len(kernel)-1\n",
    "    ks = (kl-1)//2 \n",
    "    imx = len(matrix)-1\n",
    "    imy = len(matrix[0])-1\n",
    "    for i in range(imx):\n",
    "        for j in range(imy):\n",
    "            acc = 0\n",
    "            for ki in range(kl): \n",
    "                for kj in range(kl):\n",
    "                    if 0 <= i-ks <= kl: ## make sure you don't get out of bound error\n",
    "                          acc = acc + (matrix[i-ks+ki][j-ks+kj] * kernel[ki][kj]) \n",
    "            matrix[i][j] = acc\n",
    "        \n",
    "    return matrix"
   ]
  },
  {
   "cell_type": "code",
   "execution_count": 13,
   "metadata": {},
   "outputs": [
    {
     "data": {
      "text/plain": [
       "array([[ 6,  3, 11,  1],\n",
       "       [ 3,  5,  6, 21],\n",
       "       [13, 12, 17,  6],\n",
       "       [ 8,  5, 12, 24]])"
      ]
     },
     "execution_count": 13,
     "metadata": {},
     "output_type": "execute_result"
    }
   ],
   "source": [
    "convolution(c, m)"
   ]
  },
  {
   "cell_type": "code",
   "execution_count": 121,
   "metadata": {},
   "outputs": [
    {
     "data": {
      "text/plain": [
       "(4, 4)"
      ]
     },
     "execution_count": 121,
     "metadata": {},
     "output_type": "execute_result"
    }
   ],
   "source": [
    "c.shape"
   ]
  },
  {
   "cell_type": "code",
   "execution_count": 105,
   "metadata": {},
   "outputs": [
    {
     "data": {
      "text/plain": [
       "array([[2, 0, 0, 2],\n",
       "       [0, 1, 3, 3],\n",
       "       [5, 0, 1, 1],\n",
       "       [0, 3, 1, 2]])"
      ]
     },
     "execution_count": 105,
     "metadata": {},
     "output_type": "execute_result"
    }
   ],
   "source": [
    "rotateArray(c)"
   ]
  },
  {
   "cell_type": "code",
   "execution_count": 147,
   "metadata": {},
   "outputs": [],
   "source": [
    "def rotateMatrix(M):\n",
    "    return M[:,::-1][::-1,:]#rotate matrix"
   ]
  },
  {
   "cell_type": "code",
   "execution_count": 149,
   "metadata": {},
   "outputs": [
    {
     "data": {
      "text/plain": [
       "array([[2, 0, 0, 2],\n",
       "       [0, 1, 3, 3],\n",
       "       [5, 0, 1, 1],\n",
       "       [0, 3, 1, 2]])"
      ]
     },
     "execution_count": 149,
     "metadata": {},
     "output_type": "execute_result"
    }
   ],
   "source": [
    "rotateMatrix(c)"
   ]
  },
  {
   "cell_type": "code",
   "execution_count": 82,
   "metadata": {},
   "outputs": [
    {
     "data": {
      "text/plain": [
       "array([4, 3, 2, 1])"
      ]
     },
     "execution_count": 82,
     "metadata": {},
     "output_type": "execute_result"
    }
   ],
   "source": [
    "b=np.array([1,2,3,4])\n",
    "b.T[::-1]"
   ]
  },
  {
   "cell_type": "code",
   "execution_count": 40,
   "metadata": {},
   "outputs": [
    {
     "data": {
      "text/plain": [
       "range(5, 0, -1)"
      ]
     },
     "execution_count": 40,
     "metadata": {},
     "output_type": "execute_result"
    }
   ],
   "source": [
    "range(5,0,-1)"
   ]
  },
  {
   "cell_type": "code",
   "execution_count": 126,
   "metadata": {},
   "outputs": [
    {
     "data": {
      "text/plain": [
       "array([[183, 453, 489,   0],\n",
       "       [ 14,  40,  90,   1],\n",
       "       [  4,   1,   5,   3],\n",
       "       [  2,   0,   0,   2]])"
      ]
     },
     "execution_count": 126,
     "metadata": {},
     "output_type": "execute_result"
    }
   ],
   "source": [
    "convolve(c, m)"
   ]
  }
 ],
 "metadata": {
  "kernelspec": {
   "display_name": "Python 3",
   "language": "python",
   "name": "python3"
  },
  "language_info": {
   "codemirror_mode": {
    "name": "ipython",
    "version": 3
   },
   "file_extension": ".py",
   "mimetype": "text/x-python",
   "name": "python",
   "nbconvert_exporter": "python",
   "pygments_lexer": "ipython3",
   "version": "3.8.5"
  }
 },
 "nbformat": 4,
 "nbformat_minor": 4
}
