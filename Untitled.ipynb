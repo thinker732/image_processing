{
 "cells": [
  {
   "cell_type": "code",
   "execution_count": 1,
   "metadata": {},
   "outputs": [
    {
     "data": {
      "text/plain": [
       "1"
      ]
     },
     "execution_count": 1,
     "metadata": {},
     "output_type": "execute_result"
    }
   ],
   "source": [
    "mat=1\n",
    "mat"
   ]
  },
  {
   "cell_type": "code",
   "execution_count": null,
   "metadata": {},
   "outputs": [],
   "source": []
  },
  {
   "cell_type": "code",
   "execution_count": null,
   "metadata": {},
   "outputs": [],
   "source": []
  },
  {
   "cell_type": "code",
   "execution_count": null,
   "metadata": {},
   "outputs": [],
   "source": [
    "import numpy as np\n",
    "c = np.zeros([4, 7])\n",
    "\n",
    "c[0,0]=100\n",
    "c[0,6]=100\n",
    "c[3,6]=100\n",
    "c[3,0]=100\n",
    "c=np.array([[100,4,7,1,2,1,100],[10,0,0,0,0,0,0],[0,0,0,0,0,0,1],[100,10,2,7,1,0,100]])\n",
    "\n",
    "k=0\n",
    "while(k<50):\n",
    "    for i in range(1,6):\n",
    "        for j in range(1,3):\n",
    "        #if(j==1 & i==3):\n",
    "            c[j,i]=(c[j,i-1]+c[j,i+1]+c[j-1,i]+c[j+1,i])/4\n",
    "        \n",
    "c    "
   ]
  },
  {
   "cell_type": "code",
   "execution_count": 77,
   "metadata": {},
   "outputs": [
    {
     "data": {
      "text/plain": [
       "array([[100,   4,   7,   1,   2,   1, 100],\n",
       "       [ 10,   5,   3,   1,   0,   0,   0],\n",
       "       [  0,   4,   2,   2,   0,   0,   1],\n",
       "       [100,  10,   2,   7,   1,   0, 100]])"
      ]
     },
     "execution_count": 77,
     "metadata": {},
     "output_type": "execute_result"
    }
   ],
   "source": [
    "import numpy as np\n",
    "c = np.zeros([4, 7])\n",
    "\n",
    "c[0,0]=100\n",
    "c[0,6]=100\n",
    "c[3,6]=100\n",
    "c[3,0]=100\n",
    "c=np.array([[100,4,7,1,2,1,100],[10,0,0,0,0,0,0],[0,0,0,0,0,0,1],[100,10,2,7,1,0,100]])\n",
    "\n",
    "k=0\n",
    "while(k<50):\n",
    "    for i in range(1,6):\n",
    "        for j in range(1,3):\n",
    "        #if(j==1 & i==3):\n",
    "            c[j,i]=(c[j,i-1]+c[j,i+1]+c[j-1,i]+c[j+1,i])/4\n",
    "    k+=1    \n",
    "c  "
   ]
  },
  {
   "cell_type": "code",
   "execution_count": null,
   "metadata": {},
   "outputs": [],
   "source": []
  },
  {
   "cell_type": "code",
   "execution_count": null,
   "metadata": {},
   "outputs": [],
   "source": []
  },
  {
   "cell_type": "code",
   "execution_count": null,
   "metadata": {},
   "outputs": [],
   "source": []
  },
  {
   "cell_type": "code",
   "execution_count": 85,
   "metadata": {},
   "outputs": [
    {
     "data": {
      "text/plain": [
       "array([[100,   4,   7,   1,   2,   1, 100],\n",
       "       [ 10,   5,   3,   1,   0,   0,   0],\n",
       "       [  0,   4,   2,   2,   0,   0,   1],\n",
       "       [100,  10,   2,   7,   1,   0, 100]])"
      ]
     },
     "execution_count": 85,
     "metadata": {},
     "output_type": "execute_result"
    }
   ],
   "source": [
    "import numpy as np\n",
    "c = np.zeros([4, 7])\n",
    "\n",
    "c[0,0]=100\n",
    "c[0,6]=100\n",
    "c[3,6]=100\n",
    "c[3,0]=100\n",
    "c=np.array([[100,4,7,1,2,1,100],[10,0,0,0,0,0,0],[0,0,0,0,0,0,1],[100,10,2,7,1,0,100]])\n",
    "\n",
    "k=0\n",
    "while(k<50):\n",
    "    for i in range(1,6):\n",
    "        for j in range(1,3):\n",
    "            c[j,i]=(c[j,i-1]+c[j,i+1]+c[j-1,i]+c[j+1,i])/4\n",
    "    k+=1    \n",
    "c "
   ]
  }
 ],
 "metadata": {
  "kernelspec": {
   "display_name": "Python 3",
   "language": "python",
   "name": "python3"
  },
  "language_info": {
   "codemirror_mode": {
    "name": "ipython",
    "version": 3
   },
   "file_extension": ".py",
   "mimetype": "text/x-python",
   "name": "python",
   "nbconvert_exporter": "python",
   "pygments_lexer": "ipython3",
   "version": "3.8.5"
  }
 },
 "nbformat": 4,
 "nbformat_minor": 4
}
